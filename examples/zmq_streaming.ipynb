{
 "cells": [
  {
   "cell_type": "code",
   "execution_count": null,
   "metadata": {},
   "outputs": [],
   "source": [
    "import sys\n",
    "import json\n",
    "import numpy as np\n",
    "sys.path.insert(0, '..')\n",
    "from src.embedding import Embedding, Collision, JointLimit\n",
    "from src.forward_kinematics import ForwardKinematic\n",
    "from src.dynamical_system import DynamicalSystem\n",
    "from utils import franka_parameters\n",
    "from utils.messenger import Client"
   ]
  },
  {
   "cell_type": "code",
   "execution_count": null,
   "metadata": {},
   "outputs": [],
   "source": [
    "with open('../config/environment2.json') as file:\n",
    "    config = json.load(file)"
   ]
  },
  {
   "cell_type": "code",
   "execution_count": null,
   "metadata": {},
   "outputs": [],
   "source": [
    "# add an obstacle to the workspace\n",
    "x = np.array(config['obstacles'])\n",
    "# place an attractor in the configuration space\n",
    "config_attractor = np.array([a * np.pi/180 for a in config['attractor']])\n",
    "\n",
    "fk = ForwardKinematic(\n",
    "    urdf_file=config['urdf'],\n",
    "    gmm_configuration_file=\"../config/gmm_unit.json\"\n",
    ")\n",
    "\n",
    "e = Embedding(embeddings=[Collision(x=x, fk=fk), JointLimit(limits=franka_parameters.joint_limits, booster=10)])\n",
    "\n",
    "# define proportional and dissipation gains for the DS\n",
    "k, d = 0.5, 1.5\n",
    "ds = DynamicalSystem(stiffness=k*np.eye(fk.model.nq), dissipation=d*np.eye(fk.model.nq), attractor=config_attractor, embedding=e, dt=0.01)"
   ]
  },
  {
   "cell_type": "code",
   "execution_count": null,
   "metadata": {},
   "outputs": [],
   "source": [
    "# initial conditions\n",
    "q = np.array([a * np.pi/180 for a in config['initial_configuration']])\n",
    "dq = np.array(config['initial_velocities'])\n",
    "\n",
    "client = Client(port=\"5511\")"
   ]
  },
  {
   "cell_type": "code",
   "execution_count": null,
   "metadata": {},
   "outputs": [],
   "source": [
    "iterations = 10000\n",
    "for _ in range(iterations):\n",
    "    ddq = ds.compute_basic_switched_acceleration(q, dq, kappa=0.15)\n",
    "    # the accelerations is sent to the simulation/robot\n",
    "    client.send_request(ddq.squeeze().tolist())\n",
    "    # the simulation/robot sends the real positions & veclocities back\n",
    "    q, dq = np.split(client.get_reply(), 2)"
   ]
  }
 ],
 "metadata": {
  "kernelspec": {
   "display_name": "pdm",
   "language": "python",
   "name": "python3"
  },
  "language_info": {
   "codemirror_mode": {
    "name": "ipython",
    "version": 3
   },
   "file_extension": ".py",
   "mimetype": "text/x-python",
   "name": "python",
   "nbconvert_exporter": "python",
   "pygments_lexer": "ipython3",
   "version": "3.10.13"
  }
 },
 "nbformat": 4,
 "nbformat_minor": 2
}
