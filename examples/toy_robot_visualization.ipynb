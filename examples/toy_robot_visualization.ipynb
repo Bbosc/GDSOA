{
 "cells": [
  {
   "cell_type": "code",
   "execution_count": null,
   "metadata": {},
   "outputs": [],
   "source": [
    "import sys\n",
    "import numpy as np\n",
    "import pinocchio as pin\n",
    "import matplotlib.pyplot as plt\n",
    "from matplotlib import cm, animation\n",
    "sys.path.insert(0, '..')\n",
    "from src.embedding import Embedding, Collision, JointLimit\n",
    "from src.forward_kinematics import ForwardKinematic\n",
    "from src.dynamical_system import DynamicalSystem"
   ]
  },
  {
   "cell_type": "code",
   "execution_count": null,
   "metadata": {},
   "outputs": [],
   "source": [
    "# add an obstacle to the workspace\n",
    "x = np.array([[-0.5], [1.4], [0.]])[np.newaxis, :]\n",
    "# place an attractor in the configuration space\n",
    "config_attractor = np.array([1., 0.15])\n",
    "\n",
    "fk = ForwardKinematic(\n",
    "    urdf_file='../description/2_joints_arm.urdf',\n",
    "    gmm_configuration_file=\"../config/gmm_unit.json\"\n",
    ")\n",
    "\n",
    "# define joint angle limits\n",
    "joint_limits = [\n",
    "    {'lower': -np.pi/2, 'upper': np.pi/2},\n",
    "    {'lower': -np.pi/2, 'upper': np.pi/2}\n",
    "]\n",
    "\n",
    "e = Embedding(embeddings=[Collision(x=x, fk=fk), JointLimit(limits=joint_limits, booster=10)])\n",
    "\n",
    "# define proportional and dissipation gains for the DS\n",
    "k, d = 1, 1.5\n",
    "ds = DynamicalSystem(stiffness=k*np.eye(2), dissipation=d*np.eye(2), attractor=config_attractor, embedding=e, dt=0.01)"
   ]
  },
  {
   "cell_type": "markdown",
   "metadata": {},
   "source": [
    "# Embedded representation of the configuration space"
   ]
  },
  {
   "cell_type": "code",
   "execution_count": null,
   "metadata": {},
   "outputs": [],
   "source": [
    "# creating a discrete representation of the configuration space\n",
    "q1 = np.linspace(joint_limits[0]['lower'], joint_limits[0]['upper'], 100)\n",
    "q2 = np.linspace(joint_limits[1]['lower'], joint_limits[1]['upper'], 100)\n",
    "gridX, gridY = np.meshgrid(q1, q2)\n",
    "grid = np.column_stack((gridX.ravel(), gridY.ravel()))"
   ]
  },
  {
   "cell_type": "code",
   "execution_count": null,
   "metadata": {},
   "outputs": [],
   "source": [
    "# computing the collision probability for each configuration\n",
    "a = np.zeros((grid.shape[0], 3))\n",
    "for i, q in enumerate(grid):\n",
    "    p = ds.embedding.value(q=q, dq=np.zeros_like(q), derivation_order=0).sum()\n",
    "    a[i] = np.array([q[0], q[1], p])"
   ]
  },
  {
   "cell_type": "markdown",
   "metadata": {},
   "source": [
    "# Computing the trajectories"
   ]
  },
  {
   "cell_type": "code",
   "execution_count": null,
   "metadata": {},
   "outputs": [],
   "source": [
    "q = np.array([-0.5, -1.2])\n",
    "dq = np.zeros_like(q)\n",
    "ds.x_logger = []\n",
    "for i in range(0,1000):\n",
    "    q, dq = ds(q, dq, kappa=0.15)"
   ]
  },
  {
   "cell_type": "code",
   "execution_count": null,
   "metadata": {},
   "outputs": [],
   "source": [
    "x1 = np.unique(a[:, 0])\n",
    "x2 = np.unique(a[:, 1])\n",
    "z = a[:, 2].reshape((x1.shape[0], x2.shape[0]))\n",
    "\n",
    "ps= np.stack(ds.x_logger)\n",
    "%matplotlib widget\n",
    "fig = plt.figure()\n",
    "ax = fig.add_subplot()\n",
    "ax.contourf(x1, x2, z, cmap=cm.coolwarm, alpha=0.35, levels=50)\n",
    "ax.scatter(config_attractor[0], config_attractor[1], label='attractor', marker='*', c='r', s=100)\n",
    "ax.scatter(ps[0][0], ps[0][1], label='start', marker='*', c='g', s=100)\n",
    "ax.plot(ps[:, 0], ps[:, 1], label=\"trajectory\")\n",
    "ax.set_xlim([x1.min(), x1.max()])\n",
    "ax.set_ylim([x2.min(), x2.max()])\n",
    "plt.legend()\n",
    "plt.show()"
   ]
  },
  {
   "cell_type": "code",
   "execution_count": null,
   "metadata": {},
   "outputs": [],
   "source": [
    "def animate_robot(i, configurations, fk: ForwardKinematic, ax):\n",
    "    ax.clear()\n",
    "    ax.set_xlim([-3.1, 3.1])\n",
    "    ax.set_ylim([-0.1, 3.1])\n",
    "    # ax.plot(config_attractor[0], config_attractor[1], 'y*', markersize=20, markeredgecolor='black', markeredgewidth=1)\n",
    "    # for obs in [obstacle]:\n",
    "    obstacle = x \n",
    "    ax.scatter(obstacle[:, 0], obstacle[:, 1], c='r', s=12)\n",
    "    q = configurations[i]\n",
    "    pin.forwardKinematics(fk.model, fk.data, q)\n",
    "    pin.updateFramePlacements(fk.model, fk.data)\n",
    "    _ = fk(q=q, dq=np.zeros_like(q), derivation_order=0)\n",
    "    mus = fk.mus\n",
    "    ax.scatter(mus[:, 0], mus[:, 1], c='m', s=25)\n",
    "    # Plot the target point with a border\n",
    "    ee = fk.data.oMf[fk.model.getFrameId('ee')].translation\n",
    "    link2 = fk.data.oMf[fk.model.getFrameId('link2')].translation\n",
    "    base = fk.data.oMf[fk.model.getFrameId('link1')].translation\n",
    "    # Plot the base of the robotic arm with a border\n",
    "    alpha = 1.0 if i == 0 else 0.5  # Adjust opacity based on configuration index\n",
    "    ax.plot(base[0], base[1], 'bo', markersize=20, alpha=alpha, markeredgecolor='black', markeredgewidth=3, zorder=10)\n",
    "    ax.plot([base[0], link2[0]], [base[1], link2[1]], 'k-', linewidth=8, alpha=alpha)  # Link\n",
    "    ax.plot(link2[0], link2[1], 'ko', markersize=10, markeredgecolor='black', markeredgewidth=1, zorder=10)  # Joint\n",
    "\n",
    "    # Plot the end effector of the robotic arm with a border\n",
    "    ax.plot([link2[0], ee[0]], [link2[1], ee[1]], 'k-', linewidth=8, alpha=alpha)  # Link\n",
    "    ax.plot(ee[0], ee[1], 'go', markersize=10, markeredgecolor='black', markeredgewidth=3, zorder=10)\n",
    "\n",
    "\n",
    "fig, ax = plt.subplots()\n",
    "# ax.scatter(x[0], x[1], c='r', s=12)\n",
    "ax.set_aspect('equal', 'box')\n",
    "ax.set_xlim([-3.1, 3.1])\n",
    "ax.set_ylim([-0.1, 3.1])\n",
    "dt = 0.004\n",
    "step = int(np.round(0.016/dt))\n",
    "ani = animation.FuncAnimation(fig, animate_robot, frames=np.arange(0, ps.shape[0], step, dtype=np.intc),fargs=(ps, fk, ax), interval=step*dt*1000, repeat=False)"
   ]
  },
  {
   "cell_type": "code",
   "execution_count": null,
   "metadata": {},
   "outputs": [],
   "source": []
  }
 ],
 "metadata": {
  "kernelspec": {
   "display_name": "pdm",
   "language": "python",
   "name": "python3"
  },
  "language_info": {
   "codemirror_mode": {
    "name": "ipython",
    "version": 3
   },
   "file_extension": ".py",
   "mimetype": "text/x-python",
   "name": "python",
   "nbconvert_exporter": "python",
   "pygments_lexer": "ipython3",
   "version": "3.10.13"
  }
 },
 "nbformat": 4,
 "nbformat_minor": 2
}
