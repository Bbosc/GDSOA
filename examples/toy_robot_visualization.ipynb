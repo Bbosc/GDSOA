{
 "cells": [
  {
   "cell_type": "code",
   "execution_count": 6,
   "metadata": {},
   "outputs": [],
   "source": [
    "import time\n",
    "import sys\n",
    "import numpy as np\n",
    "import matplotlib.pyplot as plt\n",
    "from matplotlib import cm\n",
    "sys.path.insert(0, '..')\n",
    "from src.embedding import Embedding\n",
    "from src.forward_kinematics import ForwardKinematic\n",
    "from src.dynamical_system import DynamicalSystem"
   ]
  },
  {
   "cell_type": "code",
   "execution_count": 11,
   "metadata": {},
   "outputs": [
    {
     "ename": "FileNotFoundError",
     "evalue": "[Errno 2] No such file or directory: 'franka_description/meshes/refined/visual_link0.stl'",
     "output_type": "error",
     "traceback": [
      "\u001b[0;31m---------------------------------------------------------------------------\u001b[0m",
      "\u001b[0;31mFileNotFoundError\u001b[0m                         Traceback (most recent call last)",
      "Cell \u001b[0;32mIn[11], line 1\u001b[0m\n\u001b[0;32m----> 1\u001b[0m fk \u001b[38;5;241m=\u001b[39m \u001b[43mForwardKinematic\u001b[49m\u001b[43m(\u001b[49m\u001b[43murdf_file\u001b[49m\u001b[38;5;241;43m=\u001b[39;49m\u001b[38;5;124;43m'\u001b[39;49m\u001b[38;5;124;43m../description/2_joints_arm.urdf\u001b[39;49m\u001b[38;5;124;43m'\u001b[39;49m\u001b[43m,\u001b[49m\u001b[43m \u001b[49m\u001b[43mgmm_configuration_file\u001b[49m\u001b[38;5;241;43m=\u001b[39;49m\u001b[38;5;124;43m\"\u001b[39;49m\u001b[38;5;124;43m../config/gmm_unit.json\u001b[39;49m\u001b[38;5;124;43m\"\u001b[39;49m\u001b[43m)\u001b[49m\n\u001b[1;32m      3\u001b[0m joint_limits \u001b[38;5;241m=\u001b[39m [{\u001b[38;5;124m'\u001b[39m\u001b[38;5;124mlower\u001b[39m\u001b[38;5;124m'\u001b[39m: \u001b[38;5;241m-\u001b[39mnp\u001b[38;5;241m.\u001b[39mpi\u001b[38;5;241m/\u001b[39m\u001b[38;5;241m2\u001b[39m, \u001b[38;5;124m'\u001b[39m\u001b[38;5;124mupper\u001b[39m\u001b[38;5;124m'\u001b[39m: np\u001b[38;5;241m.\u001b[39mpi\u001b[38;5;241m/\u001b[39m\u001b[38;5;241m2\u001b[39m}, {\u001b[38;5;124m'\u001b[39m\u001b[38;5;124mlower\u001b[39m\u001b[38;5;124m'\u001b[39m: \u001b[38;5;241m-\u001b[39mnp\u001b[38;5;241m.\u001b[39mpi\u001b[38;5;241m/\u001b[39m\u001b[38;5;241m2\u001b[39m, \u001b[38;5;124m'\u001b[39m\u001b[38;5;124mupper\u001b[39m\u001b[38;5;124m'\u001b[39m: np\u001b[38;5;241m.\u001b[39mpi\u001b[38;5;241m/\u001b[39m\u001b[38;5;241m2\u001b[39m}]\n\u001b[1;32m      4\u001b[0m e \u001b[38;5;241m=\u001b[39m Embedding(dimension\u001b[38;5;241m=\u001b[39m\u001b[38;5;241m2\u001b[39m, x\u001b[38;5;241m=\u001b[39mx\u001b[38;5;241m.\u001b[39mrepeat(\u001b[38;5;241m1\u001b[39m, \u001b[38;5;241m0\u001b[39m), fk\u001b[38;5;241m=\u001b[39mfk, limits\u001b[38;5;241m=\u001b[39mjoint_limits)\n",
      "File \u001b[0;32m~/Programs/GDSOA/examples/../src/forward_kinematics.py:11\u001b[0m, in \u001b[0;36mForwardKinematic.__init__\u001b[0;34m(self, urdf_file, gmm_configuration_file, dim)\u001b[0m\n\u001b[1;32m     10\u001b[0m \u001b[38;5;28;01mdef\u001b[39;00m \u001b[38;5;21m__init__\u001b[39m(\u001b[38;5;28mself\u001b[39m, urdf_file: \u001b[38;5;28mstr\u001b[39m, gmm_configuration_file: \u001b[38;5;28mstr\u001b[39m\u001b[38;5;241m=\u001b[39m\u001b[38;5;124m'\u001b[39m\u001b[38;5;124mconfig/gmm.json\u001b[39m\u001b[38;5;124m'\u001b[39m, dim: \u001b[38;5;28mint\u001b[39m \u001b[38;5;241m=\u001b[39m \u001b[38;5;241m3\u001b[39m) \u001b[38;5;241m-\u001b[39m\u001b[38;5;241m>\u001b[39m \u001b[38;5;28;01mNone\u001b[39;00m:\n\u001b[0;32m---> 11\u001b[0m     \u001b[38;5;28mself\u001b[39m\u001b[38;5;241m.\u001b[39mrobot_model \u001b[38;5;241m=\u001b[39m RobotModel(urdf_file, gmm_configuration_file)\n\u001b[1;32m     12\u001b[0m     \u001b[38;5;28mself\u001b[39m\u001b[38;5;241m.\u001b[39mmodel \u001b[38;5;241m=\u001b[39m pin\u001b[38;5;241m.\u001b[39mbuildModelFromUrdf(urdf_file)\n\u001b[1;32m     13\u001b[0m     \u001b[38;5;28mself\u001b[39m\u001b[38;5;241m.\u001b[39mdata \u001b[38;5;241m=\u001b[39m \u001b[38;5;28mself\u001b[39m\u001b[38;5;241m.\u001b[39mmodel\u001b[38;5;241m.\u001b[39mcreateData()\n",
      "File \u001b[0;32m~/Programs/GDSOA/examples/../src/gmm.py:31\u001b[0m, in \u001b[0;36mRobotModel.__init__\u001b[0;34m(self, urdf_file, gmm_configuration_file)\u001b[0m\n\u001b[1;32m     29\u001b[0m \u001b[38;5;28mself\u001b[39m\u001b[38;5;241m.\u001b[39mn_components \u001b[38;5;241m+\u001b[39m\u001b[38;5;241m=\u001b[39m configuration[\u001b[38;5;28mstr\u001b[39m(i)]\n\u001b[1;32m     30\u001b[0m \u001b[38;5;28mself\u001b[39m\u001b[38;5;241m.\u001b[39mpartitions\u001b[38;5;241m.\u001b[39mappend(\u001b[38;5;28mself\u001b[39m\u001b[38;5;241m.\u001b[39mn_components)\n\u001b[0;32m---> 31\u001b[0m \u001b[38;5;28mself\u001b[39m\u001b[38;5;241m.\u001b[39m_gmms\u001b[38;5;241m.\u001b[39mappend(\u001b[38;5;28;43mself\u001b[39;49m\u001b[38;5;241;43m.\u001b[39;49m\u001b[43m_get_gmm_model\u001b[49m\u001b[43m(\u001b[49m\u001b[43mlink_id\u001b[49m\u001b[38;5;241;43m=\u001b[39;49m\u001b[43mi\u001b[49m\u001b[43m,\u001b[49m\u001b[43m \u001b[49m\u001b[43mn_components\u001b[49m\u001b[38;5;241;43m=\u001b[39;49m\u001b[43mconfiguration\u001b[49m\u001b[43m[\u001b[49m\u001b[38;5;28;43mstr\u001b[39;49m\u001b[43m(\u001b[49m\u001b[43mi\u001b[49m\u001b[43m)\u001b[49m\u001b[43m]\u001b[49m\u001b[43m)\u001b[49m)\n",
      "File \u001b[0;32m~/Programs/GDSOA/examples/../src/gmm.py:71\u001b[0m, in \u001b[0;36mRobotModel._get_gmm_model\u001b[0;34m(self, link_id, n_components)\u001b[0m\n\u001b[1;32m     69\u001b[0m         \u001b[38;5;28;01melse\u001b[39;00m:\n\u001b[1;32m     70\u001b[0m             \u001b[38;5;28mprint\u001b[39m(\u001b[38;5;124mf\u001b[39m\u001b[38;5;124m'\u001b[39m\u001b[38;5;124mrefitting GMM of link\u001b[39m\u001b[38;5;132;01m{\u001b[39;00mlink_id\u001b[38;5;132;01m}\u001b[39;00m\u001b[38;5;124m with \u001b[39m\u001b[38;5;132;01m{\u001b[39;00mn_components\u001b[38;5;132;01m}\u001b[39;00m\u001b[38;5;124m components...\u001b[39m\u001b[38;5;124m'\u001b[39m)\n\u001b[0;32m---> 71\u001b[0m surface \u001b[38;5;241m=\u001b[39m \u001b[38;5;28;43mself\u001b[39;49m\u001b[38;5;241;43m.\u001b[39;49m\u001b[43m_extract_surface_points\u001b[49m\u001b[43m(\u001b[49m\u001b[43mlink_id\u001b[49m\u001b[43m)\u001b[49m\n\u001b[1;32m     72\u001b[0m link_gmm \u001b[38;5;241m=\u001b[39m \u001b[38;5;28mself\u001b[39m\u001b[38;5;241m.\u001b[39m_fit_gmm(surface, n_components\u001b[38;5;241m=\u001b[39mn_components)\n\u001b[1;32m     73\u001b[0m \u001b[38;5;28;01mwith\u001b[39;00m \u001b[38;5;28mopen\u001b[39m(model_path, \u001b[38;5;124m'\u001b[39m\u001b[38;5;124mwb\u001b[39m\u001b[38;5;124m'\u001b[39m) \u001b[38;5;28;01mas\u001b[39;00m file:\n",
      "File \u001b[0;32m~/Programs/GDSOA/examples/../src/gmm.py:37\u001b[0m, in \u001b[0;36mRobotModel._extract_surface_points\u001b[0;34m(cls, link_id)\u001b[0m\n\u001b[1;32m     33\u001b[0m \u001b[38;5;129m@classmethod\u001b[39m\n\u001b[1;32m     34\u001b[0m \u001b[38;5;28;01mdef\u001b[39;00m \u001b[38;5;21m_extract_surface_points\u001b[39m(\u001b[38;5;28mcls\u001b[39m, link_id: \u001b[38;5;28mint\u001b[39m)\u001b[38;5;241m-\u001b[39m\u001b[38;5;241m>\u001b[39mnp\u001b[38;5;241m.\u001b[39mndarray:\n\u001b[1;32m     35\u001b[0m     \u001b[38;5;66;03m# select one points from each vertices\u001b[39;00m\n\u001b[1;32m     36\u001b[0m     mesh_name \u001b[38;5;241m=\u001b[39m \u001b[38;5;28mcls\u001b[39m\u001b[38;5;241m.\u001b[39mMESH_PREFIX \u001b[38;5;241m+\u001b[39m \u001b[38;5;124mf\u001b[39m\u001b[38;5;124m'\u001b[39m\u001b[38;5;124mvisual_link\u001b[39m\u001b[38;5;132;01m{\u001b[39;00mlink_id\u001b[38;5;132;01m}\u001b[39;00m\u001b[38;5;124m.stl\u001b[39m\u001b[38;5;124m'\u001b[39m\n\u001b[0;32m---> 37\u001b[0m     \u001b[38;5;28;01mreturn\u001b[39;00m \u001b[43mmeshlib\u001b[49m\u001b[38;5;241;43m.\u001b[39;49m\u001b[43mMesh\u001b[49m\u001b[38;5;241;43m.\u001b[39;49m\u001b[43mfrom_file\u001b[49m\u001b[43m(\u001b[49m\u001b[43mmesh_name\u001b[49m\u001b[43m)\u001b[49m\u001b[38;5;241m.\u001b[39mpoints[:, :\u001b[38;5;241m3\u001b[39m]\n",
      "File \u001b[0;32m~/mambaforge/envs/pdm/lib/python3.10/site-packages/stl/stl.py:389\u001b[0m, in \u001b[0;36mBaseStl.from_file\u001b[0;34m(cls, filename, calculate_normals, fh, mode, speedups, **kwargs)\u001b[0m\n\u001b[1;32m    385\u001b[0m     name, data \u001b[38;5;241m=\u001b[39m \u001b[38;5;28mcls\u001b[39m\u001b[38;5;241m.\u001b[39mload(\n\u001b[1;32m    386\u001b[0m         fh, mode\u001b[38;5;241m=\u001b[39mmode, speedups\u001b[38;5;241m=\u001b[39mspeedups\n\u001b[1;32m    387\u001b[0m     )\n\u001b[1;32m    388\u001b[0m \u001b[38;5;28;01melse\u001b[39;00m:\n\u001b[0;32m--> 389\u001b[0m     \u001b[38;5;28;01mwith\u001b[39;00m \u001b[38;5;28;43mopen\u001b[39;49m\u001b[43m(\u001b[49m\u001b[43mfilename\u001b[49m\u001b[43m,\u001b[49m\u001b[43m \u001b[49m\u001b[38;5;124;43m'\u001b[39;49m\u001b[38;5;124;43mrb\u001b[39;49m\u001b[38;5;124;43m'\u001b[39;49m\u001b[43m)\u001b[49m \u001b[38;5;28;01mas\u001b[39;00m fh:\n\u001b[1;32m    390\u001b[0m         name, data \u001b[38;5;241m=\u001b[39m \u001b[38;5;28mcls\u001b[39m\u001b[38;5;241m.\u001b[39mload(\n\u001b[1;32m    391\u001b[0m             fh, mode\u001b[38;5;241m=\u001b[39mmode, speedups\u001b[38;5;241m=\u001b[39mspeedups\n\u001b[1;32m    392\u001b[0m         )\n\u001b[1;32m    394\u001b[0m \u001b[38;5;28;01mreturn\u001b[39;00m \u001b[38;5;28mcls\u001b[39m(\n\u001b[1;32m    395\u001b[0m     data, calculate_normals, name\u001b[38;5;241m=\u001b[39mname,\n\u001b[1;32m    396\u001b[0m     speedups\u001b[38;5;241m=\u001b[39mspeedups, \u001b[38;5;241m*\u001b[39m\u001b[38;5;241m*\u001b[39mkwargs\n\u001b[1;32m    397\u001b[0m )\n",
      "\u001b[0;31mFileNotFoundError\u001b[0m: [Errno 2] No such file or directory: 'franka_description/meshes/refined/visual_link0.stl'"
     ]
    }
   ],
   "source": [
    "fk = ForwardKinematic(urdf_file='../description/2_joints_arm.urdf', gmm_configuration_file=\"../config/gmm_unit.json\")\n",
    "\n",
    "joint_limits = [{'lower': -np.pi/2, 'upper': np.pi/2}, {'lower': -np.pi/2, 'upper': np.pi/2}]\n",
    "e = Embedding(dimension=2, x=x.repeat(1, 0), fk=fk, limits=joint_limits)\n",
    "\n",
    "ds = DynamicalSystem(stiffness=K, dissipation=D, attractor=config_attractor, embedding=e, dt=0.01)"
   ]
  },
  {
   "cell_type": "code",
   "execution_count": null,
   "metadata": {},
   "outputs": [],
   "source": []
  }
 ],
 "metadata": {
  "kernelspec": {
   "display_name": "pdm",
   "language": "python",
   "name": "python3"
  },
  "language_info": {
   "codemirror_mode": {
    "name": "ipython",
    "version": 3
   },
   "file_extension": ".py",
   "mimetype": "text/x-python",
   "name": "python",
   "nbconvert_exporter": "python",
   "pygments_lexer": "ipython3",
   "version": "3.10.13"
  }
 },
 "nbformat": 4,
 "nbformat_minor": 2
}
