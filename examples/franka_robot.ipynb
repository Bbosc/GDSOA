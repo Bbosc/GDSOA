{
 "cells": [
  {
   "cell_type": "code",
   "execution_count": 2,
   "metadata": {},
   "outputs": [],
   "source": [
    "import sys\n",
    "import json\n",
    "import time\n",
    "import numpy as np\n",
    "import pinocchio as pin\n",
    "import matplotlib.pyplot as plt\n",
    "sys.path.insert(0, '..')\n",
    "from src.embedding import Embedding, Collision, JointLimit\n",
    "from src.forward_kinematics import ForwardKinematic\n",
    "from src.dynamical_system import DynamicalSystem\n",
    "from utils import franka_parameters\n",
    "from utils.visualization import plot_3d_ellipsoid_from_covariance"
   ]
  },
  {
   "cell_type": "code",
   "execution_count": 3,
   "metadata": {},
   "outputs": [],
   "source": [
    "with open('../config/environment4.json') as file:\n",
    "    config = json.load(file)"
   ]
  },
  {
   "cell_type": "code",
   "execution_count": null,
   "metadata": {},
   "outputs": [],
   "source": [
    "# add an obstacle to the workspace\n",
    "x = np.array(config['obstacles'])\n",
    "# place an attractor in the configuration space\n",
    "config_attractor = np.array([a * np.pi/180 for a in config['attractor']])\n",
    "\n",
    "fk = ForwardKinematic(\n",
    "    urdf_file=config['urdf'],\n",
    "    gmm_configuration_file=\"../config/gmm_unit.json\"\n",
    ")\n",
    "\n",
    "e = Embedding(embeddings=[Collision(x=x, fk=fk), JointLimit(limits=franka_parameters.joint_limits, booster=10)])\n",
    "\n",
    "# define proportional and dissipation gains for the DS\n",
    "k, d = 0.5, 1.5\n",
    "ds = DynamicalSystem(stiffness=k*np.eye(fk.model.nq), dissipation=d*np.eye(fk.model.nq), attractor=config_attractor, embedding=e, dt=0.01)"
   ]
  },
  {
   "cell_type": "markdown",
   "metadata": {},
   "source": [
    "# Compute joint trajectories"
   ]
  },
  {
   "cell_type": "code",
   "execution_count": null,
   "metadata": {},
   "outputs": [],
   "source": [
    "q = np.array([a * np.pi/180 for a in config['initial_configuration']])\n",
    "dq = np.array(config['initial_velocities'])\n",
    "ds.x_logger = []\n",
    "frequency = 0\n",
    "for i in range(0, 1000):\n",
    "    start = time.time()\n",
    "    q, dq = ds(q, dq, kappa=0.15)\n",
    "    frequency += 1/(time.time() - start)\n",
    "print(f'average frequency : {frequency/1000}')"
   ]
  },
  {
   "cell_type": "code",
   "execution_count": null,
   "metadata": {},
   "outputs": [],
   "source": [
    "ps = np.stack(ds.x_logger)\n",
    "\n",
    "fig = plt.figure()\n",
    "ax = fig.add_subplot()\n",
    "for i in range(ps.shape[1]):\n",
    "    ax.plot(range(ps.shape[0]), ps[:, i], label=rf'$q_{i+1}$')\n",
    "plt.legend()\n",
    "plt.show()"
   ]
  },
  {
   "cell_type": "markdown",
   "metadata": {},
   "source": [
    "# Task space result"
   ]
  },
  {
   "cell_type": "code",
   "execution_count": null,
   "metadata": {},
   "outputs": [],
   "source": [
    "from matplotlib import animation\n",
    "\n",
    "def animate_robot(i, configurations, fk: ForwardKinematic, obstacle, ax):\n",
    "    ax.set_aspect('equal')\n",
    "    ax.set_xlim(-0.1, 2)\n",
    "    ax.clear()\n",
    "    ax.scatter(obstacle[:, 0], obstacle[:, 1], obstacle[:, 2], c='black', s=100)\n",
    "    q = configurations[i]\n",
    "    pin.forwardKinematics(fk.model, fk.data, q)\n",
    "    pin.updateFramePlacements(fk.model, fk.data)\n",
    "    _ = fk(q=q, dq=np.zeros_like(q), derivation_order=0)\n",
    "    ax.scatter(*(fk.mus[:, i] for i in range(3)))\n",
    "    for i in range(fk.sigmas.shape[0]):\n",
    "        ax.set_xlim(-0.5, 0.5)\n",
    "        ax.set_ylim(-0.5, 0.5)\n",
    "        ax.set_zlim(-0.1, 1)\n",
    "        ax.set_aspect('equal')\n",
    "        plot_3d_ellipsoid_from_covariance(fk.sigmas[i], center=fk.mus[i], ax=ax)\n",
    "\n",
    "fig = plt.figure()\n",
    "ax = fig.add_subplot(projection='3d')\n",
    "ax.view_init(azim=-90, elev=0)\n",
    "dt = 0.004\n",
    "step = int(np.round(0.016/dt))\n",
    "ani = animation.FuncAnimation(fig, animate_robot, frames=np.arange(0, ps.shape[0], step, dtype=np.intc),fargs=(ps, fk, x, ax), interval=step*dt*1000, repeat=False)"
   ]
  },
  {
   "cell_type": "code",
   "execution_count": null,
   "metadata": {},
   "outputs": [],
   "source": []
  }
 ],
 "metadata": {
  "kernelspec": {
   "display_name": "pdm",
   "language": "python",
   "name": "python3"
  },
  "language_info": {
   "codemirror_mode": {
    "name": "ipython",
    "version": 3
   },
   "file_extension": ".py",
   "mimetype": "text/x-python",
   "name": "python",
   "nbconvert_exporter": "python",
   "pygments_lexer": "ipython3",
   "version": "3.10.13"
  }
 },
 "nbformat": 4,
 "nbformat_minor": 2
}
