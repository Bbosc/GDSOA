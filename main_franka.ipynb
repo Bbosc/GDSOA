{
 "cells": [
  {
   "cell_type": "code",
   "execution_count": null,
   "metadata": {},
   "outputs": [],
   "source": [
    "import time\n",
    "import numpy as np\n",
    "import matplotlib.pyplot as plt\n",
    "from matplotlib import cm\n",
    "import pinocchio as pin\n",
    "from src.embedding import Embedding\n",
    "from src.forward_kinematics import ForwardKinematic\n",
    "from src.dynamical_system import DynamicalSystem\n",
    "from utils.franka_parameters import joint_limits\n",
    "from utils.visualization import visualize_robot, plot_3d_ellipsoid_from_covariance, plot_coupled_embeddings"
   ]
  },
  {
   "cell_type": "code",
   "execution_count": null,
   "metadata": {},
   "outputs": [],
   "source": [
    "fk = ForwardKinematic(urdf_file='franka_description/urdf/panda_no_gripper.urdf', components_per_link=10)\n",
    "config_dim = fk.model.nq\n",
    "\n",
    "K = 1 * np.eye(config_dim)\n",
    "D = 1.5*np.eye(config_dim)\n",
    "\n",
    "lower_bound = np.array([limit['lower'] for limit in joint_limits])\n",
    "upper_bound = np.array([limit['upper'] for limit in joint_limits])\n",
    "# config_attractor = pin.randomConfiguration(fk.model, lower_bound, upper_bound)\n",
    "config_attractor = np.array([-1.98940735, -0.34923044, -2.14521628, -2.74515598,  2.89106801, 0.80532853,  0.07493805])\n",
    "print(f'attractor : {config_attractor}')\n",
    "\n",
    "x = np.array([[-0.2], [-0.1], [0.6]])[np.newaxis, :]\n",
    "\n",
    "e = Embedding(dimension=config_dim, x=x.repeat(1, 0), fk=fk, limits=joint_limits)\n",
    "\n",
    "ds = DynamicalSystem(stiffness=K, dissipation=D, attractor=config_attractor, embedding=e, dt=0.01)"
   ]
  },
  {
   "cell_type": "code",
   "execution_count": null,
   "metadata": {},
   "outputs": [],
   "source": [
    "%matplotlib widget\n",
    "\n",
    "config_start = np.array([0., 0., 0., -1.5, 0., 1.5, 0.])\n",
    "initial_speed = np.array([0, 0, 0, 0, 0, 0, 0.]) \n",
    "\n",
    "# config_attractor = pin.randomConfiguration(fk.model, lower_bound, upper_bound)\n",
    "speed = np.zeros_like(config_attractor)\n",
    "fk(config_start, speed, derivation_order=0)\n",
    "visualize_robot(fk=fk, obstacle=x, color='blue')\n",
    "fk(config_attractor, speed, derivation_order=0)\n",
    "visualize_robot(fk=fk, obstacle=x, color='orange')\n",
    "plt.show()"
   ]
  },
  {
   "cell_type": "code",
   "execution_count": null,
   "metadata": {},
   "outputs": [],
   "source": [
    "# config_start = pin.neutral(fk.model)\n",
    "# config_start = pin.randomConfiguration(fk.model, lower_bound, upper_bound)\n",
    "# initial_speed = np.zeros_like(config_start)\n",
    "q = config_start\n",
    "dq = initial_speed\n",
    "positions = []\n",
    "velocities = []\n",
    "frequencies = []\n",
    "for i in range(0,1000):\n",
    "    start1 = time.time()\n",
    "    q, dq = ds(q, dq)\n",
    "    positions.append(q)\n",
    "    velocities.append(dq)\n",
    "    frequencies.append(1/(time.time() - start1))\n",
    "print(f'average execution frequency : {sum(frequencies)/len(frequencies):.4f} Hz')\n",
    "ps= np.stack(positions)"
   ]
  },
  {
   "cell_type": "markdown",
   "metadata": {},
   "source": [
    "# Visualization"
   ]
  },
  {
   "cell_type": "code",
   "execution_count": null,
   "metadata": {},
   "outputs": [],
   "source": [
    "def generate_grid_coordinates(joint_limits, resolution: int=5):\n",
    "    qs = tuple(np.linspace(-np.pi, np.pi, resolution) for limit in joint_limits)\n",
    "    # qs = tuple(np.linspace(limit['lower'], limit['upper'], resolution) for limit in joint_limits)\n",
    "    grids = np.meshgrid(*qs)\n",
    "    return np.column_stack(tuple(g.ravel() for g in grids))\n",
    "\n",
    "grid = generate_grid_coordinates(joint_limits=joint_limits, resolution=5)\n",
    "print(grid.shape)"
   ]
  },
  {
   "cell_type": "code",
   "execution_count": null,
   "metadata": {},
   "outputs": [],
   "source": [
    "a = np.zeros((grid.shape[0], grid.shape[1]+1))\n",
    "freq = []\n",
    "for i, q in enumerate(grid):\n",
    "    start = time.time()\n",
    "    p = e.value_only(q).sum()\n",
    "    a[i] = np.array([*q, p])\n",
    "    freq.append(1/(time.time() - start))\n",
    "print(f'average freq : {sum(freq)/len(freq)}')"
   ]
  },
  {
   "cell_type": "code",
   "execution_count": null,
   "metadata": {},
   "outputs": [],
   "source": [
    "plot_coupled_embeddings(grid, config_attractor, embedding=a, streamlines=ps, start=config_start)\n",
    "plt.show()"
   ]
  },
  {
   "cell_type": "code",
   "execution_count": null,
   "metadata": {},
   "outputs": [],
   "source": [
    "psi = np.stack(ds.embedding_logger)\n",
    "plt.figure()\n",
    "for i in range(psi.shape[2]):\n",
    "    plt.plot(range(psi.shape[0]), psi[:, :, i], label=rf'$\\psi_{i}$')\n",
    "plt.legend()\n",
    "plt.show()"
   ]
  },
  {
   "cell_type": "code",
   "execution_count": null,
   "metadata": {},
   "outputs": [],
   "source": [
    "vel = np.stack(velocities)\n",
    "plt.figure()\n",
    "plt.plot(range(vel.shape[0]), vel)\n",
    "plt.show()"
   ]
  },
  {
   "cell_type": "code",
   "execution_count": null,
   "metadata": {},
   "outputs": [],
   "source": [
    "grad = np.stack(ds.gradient_logger)\n",
    "plt.figure()\n",
    "plt.plot(range(grad.shape[0]), np.linalg.norm(grad, axis=2))\n",
    "plt.show()"
   ]
  },
  {
   "cell_type": "code",
   "execution_count": null,
   "metadata": {},
   "outputs": [],
   "source": [
    "from matplotlib import animation\n",
    "\n",
    "def animate_robot(i, configurations, fk: ForwardKinematic, obstacle, ax):\n",
    "    ax.set_aspect('equal')\n",
    "    ax.set_xlim(-0.1, 2)\n",
    "    ax.clear()\n",
    "    ax.scatter(obstacle[:, 0], obstacle[:, 1], obstacle[:, 2], c='black', s=100)\n",
    "    q = configurations[i]\n",
    "    pin.forwardKinematics(fk.model, fk.data, q)\n",
    "    pin.updateFramePlacements(fk.model, fk.data)\n",
    "    _ = fk(q=q, dq=np.zeros_like(q), derivation_order=0)\n",
    "    ax.scatter(*(fk.mus[:, i] for i in range(3)))\n",
    "    for i in range(fk.sigmas.shape[0]):\n",
    "        ax.set_xlim(-0.5, 0.5)\n",
    "        ax.set_ylim(-0.5, 0.5)\n",
    "        ax.set_zlim(-0.1, 1)\n",
    "        ax.set_aspect('equal')\n",
    "        plot_3d_ellipsoid_from_covariance(fk.sigmas[i], center=fk.mus[i], ax=ax)\n",
    "\n",
    "fig = plt.figure()\n",
    "ax = fig.add_subplot(projection='3d')\n",
    "ax.view_init(azim=-90, elev=0)\n",
    "dt = 0.004\n",
    "step = int(np.round(0.016/dt))\n",
    "ani = animation.FuncAnimation(fig, animate_robot, frames=np.arange(0, ps.shape[0], step, dtype=np.intc),fargs=(ps, fk, x, ax), interval=step*dt*1000, repeat=False)\n",
    "# ani.save('vid.mp4')"
   ]
  },
  {
   "cell_type": "code",
   "execution_count": null,
   "metadata": {},
   "outputs": [],
   "source": []
  }
 ],
 "metadata": {
  "kernelspec": {
   "display_name": "pdm",
   "language": "python",
   "name": "python3"
  },
  "language_info": {
   "codemirror_mode": {
    "name": "ipython",
    "version": 3
   },
   "file_extension": ".py",
   "mimetype": "text/x-python",
   "name": "python",
   "nbconvert_exporter": "python",
   "pygments_lexer": "ipython3",
   "version": "3.10.13"
  }
 },
 "nbformat": 4,
 "nbformat_minor": 2
}
