{
 "cells": [
  {
   "cell_type": "code",
   "execution_count": 1,
   "metadata": {},
   "outputs": [],
   "source": [
    "import time\n",
    "import numpy as np\n",
    "import matplotlib.pyplot as plt\n",
    "from matplotlib import cm\n",
    "import pinocchio as pin\n",
    "from embedding import Embedding\n",
    "from forward_kinematics import ForwardKinematic\n",
    "from dynamical_system import DynamicalSystem"
   ]
  },
  {
   "cell_type": "code",
   "execution_count": 7,
   "metadata": {},
   "outputs": [
    {
     "name": "stdout",
     "output_type": "stream",
     "text": [
      "attractor : [-0.13413041  0.47233771 -0.80239598 -1.4838798   2.68362164  3.49465624\n",
      "  0.80534054]\n"
     ]
    }
   ],
   "source": [
    "fk = ForwardKinematic(urdf_file='franka_description/urdf/panda_no_gripper.urdf')\n",
    "config_dim = fk.model.nq\n",
    "\n",
    "K = 1 * np.eye(config_dim)\n",
    "D = 1.5*np.eye(config_dim)\n",
    "\n",
    "config_attractor = pin.randomConfiguration(fk.model)\n",
    "print(f'attractor : {config_attractor}')\n",
    "\n",
    "x = np.array([[-3], [0], [0.]])[np.newaxis, :]\n",
    "\n",
    "e = Embedding(dimension=config_dim, x=x.repeat(1, 0), fk=fk)\n",
    "\n",
    "ds = DynamicalSystem(stiffness=K, dissipation=D, attractor=config_attractor, embedding=e, dt=0.01)"
   ]
  },
  {
   "cell_type": "code",
   "execution_count": 8,
   "metadata": {},
   "outputs": [
    {
     "name": "stdout",
     "output_type": "stream",
     "text": [
      "average execution frequency : 229.7235 Hz\n"
     ]
    }
   ],
   "source": [
    "start = pin.neutral(fk.model)\n",
    "initial_speed = np.zeros_like(start)\n",
    "q = start\n",
    "dq = initial_speed\n",
    "positions = []\n",
    "frequencies = []\n",
    "for i in range(0,200):\n",
    "    start1 = time.time()\n",
    "    q, dq = ds(q, dq)\n",
    "    positions.append(q)\n",
    "    frequencies.append(1/(time.time() - start1))\n",
    "print(f'average execution frequency : {sum(frequencies)/len(frequencies):.4f} Hz')"
   ]
  },
  {
   "cell_type": "code",
   "execution_count": null,
   "metadata": {},
   "outputs": [],
   "source": []
  }
 ],
 "metadata": {
  "kernelspec": {
   "display_name": "pdm",
   "language": "python",
   "name": "python3"
  },
  "language_info": {
   "codemirror_mode": {
    "name": "ipython",
    "version": 3
   },
   "file_extension": ".py",
   "mimetype": "text/x-python",
   "name": "python",
   "nbconvert_exporter": "python",
   "pygments_lexer": "ipython3",
   "version": "3.10.13"
  }
 },
 "nbformat": 4,
 "nbformat_minor": 2
}
