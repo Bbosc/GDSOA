{
 "cells": [
  {
   "cell_type": "code",
   "execution_count": null,
   "metadata": {},
   "outputs": [],
   "source": [
    "import time\n",
    "import json\n",
    "from pathlib import Path\n",
    "import numpy as np\n",
    "import matplotlib.pyplot as plt\n",
    "from matplotlib import cm\n",
    "import pinocchio as pin\n",
    "from src.embedding import Embedding\n",
    "from src.forward_kinematics import ForwardKinematic\n",
    "from src.dynamical_system import DynamicalSystem\n",
    "from utils.franka_parameters import joint_limits \n",
    "from utils.visualization import visualize_robot, plot_3d_ellipsoid_from_covariance, plot_coupled_embeddings, generate_grid_coordinates"
   ]
  },
  {
   "cell_type": "code",
   "execution_count": null,
   "metadata": {},
   "outputs": [],
   "source": [
    "with open('config/environment1.json') as file:\n",
    "    config = json.load(file)"
   ]
  },
  {
   "cell_type": "code",
   "execution_count": null,
   "metadata": {},
   "outputs": [],
   "source": [
    "fk = ForwardKinematic(urdf_file=config['urdf'], components_per_link=config['n_gmm_components'])\n",
    "config_dim = fk.model.nq\n",
    "\n",
    "K = 0.5 * np.eye(config_dim)\n",
    "D = 1.5 * np.eye(config_dim)\n",
    "\n",
    "config_attractor = np.array([a * np.pi/180 for a in config['attractor']])\n",
    "\n",
    "x = np.array(config['obstacles'])\n",
    "\n",
    "e = Embedding(dimension=config_dim, x=x, fk=fk, limits=joint_limits)\n",
    "\n",
    "ds = DynamicalSystem(stiffness=K, dissipation=D, attractor=config_attractor, embedding=e, dt=0.01)"
   ]
  },
  {
   "cell_type": "code",
   "execution_count": null,
   "metadata": {},
   "outputs": [],
   "source": [
    "%matplotlib widget\n",
    "\n",
    "config_start = np.array([a * np.pi/180 for a in config['initial_configuration']])\n",
    "initial_speed = np.array(config['initial_velocities']) \n",
    "\n",
    "fk(config_start, initial_speed, derivation_order=0)\n",
    "ax = visualize_robot(fk=fk, obstacle=x, color='blue')\n",
    "fk(config_attractor, initial_speed, derivation_order=0)\n",
    "visualize_robot(fk=fk, obstacle=x, color='orange', ax=ax)\n",
    "plt.show()"
   ]
  },
  {
   "cell_type": "code",
   "execution_count": null,
   "metadata": {},
   "outputs": [],
   "source": [
    "q = config_start\n",
    "dq = initial_speed\n",
    "positions, velocities, frequencies = [], [], []\n",
    "for i in range(0,3000):\n",
    "    start1 = time.time()\n",
    "    q, dq = ds(q, dq)\n",
    "    positions.append(q)\n",
    "    velocities.append(dq)\n",
    "    frequencies.append(1/(time.time() - start1))\n",
    "print(f'average execution frequency : {sum(frequencies)/len(frequencies):.4f} Hz')\n",
    "ps = np.stack(positions)"
   ]
  },
  {
   "cell_type": "markdown",
   "metadata": {},
   "source": [
    "# Visualization"
   ]
  },
  {
   "cell_type": "code",
   "execution_count": null,
   "metadata": {},
   "outputs": [],
   "source": [
    "if not Path('.bin/franka_embedding.npy').is_file():\n",
    "    grid = generate_grid_coordinates(joint_limits, resolution=5)\n",
    "    a = np.zeros((grid.shape[0], grid.shape[1]+1))\n",
    "    for i, q in enumerate(grid):\n",
    "        a[i] = np.array([*q, e.value_only(q).sum()])\n",
    "    np.save('.bin/franka_embedding.npy', a)\n",
    "else:\n",
    "    a = np.load('.bin/franka_embedding.npy')\n",
    "    grid = a[:, :-1]"
   ]
  },
  {
   "cell_type": "code",
   "execution_count": null,
   "metadata": {},
   "outputs": [],
   "source": [
    "plot_coupled_embeddings(grid, config_attractor, embedding=a, streamlines=ps, start=config_start)\n",
    "plt.show()"
   ]
  },
  {
   "cell_type": "code",
   "execution_count": null,
   "metadata": {},
   "outputs": [],
   "source": [
    "psi = np.stack(ds.embedding_logger)\n",
    "psi = psi.reshape((psi.shape[0], 7, -1)).sum(-1)\n",
    "plt.figure()\n",
    "for i in range(psi.shape[1]):\n",
    "    plt.plot(range(psi.shape[0]), psi[:, i], label=rf'$\\psi_{i}$')\n",
    "plt.legend()\n",
    "plt.show()"
   ]
  },
  {
   "cell_type": "code",
   "execution_count": null,
   "metadata": {},
   "outputs": [],
   "source": [
    "weights = np.stack(ds.projection_weight_logger)\n",
    "plt.figure()\n",
    "plt.plot(range(weights.shape[0]), weights)\n",
    "plt.show()"
   ]
  },
  {
   "cell_type": "code",
   "execution_count": null,
   "metadata": {},
   "outputs": [],
   "source": [
    "vel = np.stack(velocities)\n",
    "plt.figure()\n",
    "plt.plot(range(vel.shape[0]), vel)\n",
    "plt.show()"
   ]
  },
  {
   "cell_type": "code",
   "execution_count": null,
   "metadata": {},
   "outputs": [],
   "source": [
    "plt.figure()\n",
    "for i in range(ps.shape[1]):\n",
    "    plt.plot(range(ps.shape[0]), ps[:, i], label=rf'$q_{i}$')\n",
    "plt.legend()\n",
    "plt.show()"
   ]
  },
  {
   "cell_type": "code",
   "execution_count": null,
   "metadata": {},
   "outputs": [],
   "source": [
    "ddx = np.stack(ds.ddx_logger)\n",
    "plt.figure()\n",
    "for i in range(ddx.shape[1]):\n",
    "    plt.plot(range(ddx.shape[0]), ddx[:, i], label=rf'$\\ddot q_{i}$')\n",
    "plt.legend()\n",
    "plt.show()"
   ]
  },
  {
   "cell_type": "code",
   "execution_count": null,
   "metadata": {},
   "outputs": [],
   "source": [
    "grad = np.stack(ds.gradient_logger)\n",
    "plt.figure()\n",
    "plt.plot(range(grad.shape[0]), np.linalg.norm(grad, axis=2))\n",
    "for i in range(grad.shape[2]):\n",
    "    plt.plot(range(grad.shape[0]), grad[:, :, i], label=rf'$\\nabla\\psi_{i}$')\n",
    "plt.legend()\n",
    "plt.show()"
   ]
  },
  {
   "cell_type": "code",
   "execution_count": null,
   "metadata": {},
   "outputs": [],
   "source": [
    "from matplotlib import animation\n",
    "\n",
    "def animate_robot(i, configurations, fk: ForwardKinematic, obstacle, ax):\n",
    "    ax.set_aspect('equal')\n",
    "    ax.set_xlim(-0.1, 2)\n",
    "    ax.clear()\n",
    "    ax.scatter(obstacle[:, 0], obstacle[:, 1], obstacle[:, 2], c='black', s=100)\n",
    "    q = configurations[i]\n",
    "    pin.forwardKinematics(fk.model, fk.data, q)\n",
    "    pin.updateFramePlacements(fk.model, fk.data)\n",
    "    _ = fk(q=q, dq=np.zeros_like(q), derivation_order=0)\n",
    "    ax.scatter(*(fk.mus[:, i] for i in range(3)))\n",
    "    for i in range(fk.sigmas.shape[0]):\n",
    "        ax.set_xlim(-0.5, 0.5)\n",
    "        ax.set_ylim(-0.5, 0.5)\n",
    "        ax.set_zlim(-0.1, 1)\n",
    "        ax.set_aspect('equal')\n",
    "        plot_3d_ellipsoid_from_covariance(fk.sigmas[i], center=fk.mus[i], ax=ax)\n",
    "\n",
    "fig = plt.figure()\n",
    "ax = fig.add_subplot(projection='3d')\n",
    "ax.view_init(azim=-90, elev=0)\n",
    "dt = 0.004\n",
    "step = int(np.round(0.016/dt))\n",
    "ani = animation.FuncAnimation(fig, animate_robot, frames=np.arange(0, ps.shape[0], step, dtype=np.intc),fargs=(ps, fk, x, ax), interval=step*dt*1000, repeat=False)\n",
    "# ani.save('vid.mp4')"
   ]
  },
  {
   "cell_type": "code",
   "execution_count": null,
   "metadata": {},
   "outputs": [],
   "source": []
  }
 ],
 "metadata": {
  "kernelspec": {
   "display_name": "pdm",
   "language": "python",
   "name": "python3"
  },
  "language_info": {
   "codemirror_mode": {
    "name": "ipython",
    "version": 3
   },
   "file_extension": ".py",
   "mimetype": "text/x-python",
   "name": "python",
   "nbconvert_exporter": "python",
   "pygments_lexer": "ipython3",
   "version": "3.10.13"
  }
 },
 "nbformat": 4,
 "nbformat_minor": 2
}
